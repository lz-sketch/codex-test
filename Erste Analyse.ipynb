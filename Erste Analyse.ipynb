{
 "cells": [
  {
   "cell_type": "code",
   "execution_count": 1,
   "id": "5352d831-cd36-43fa-8119-89f534ebccf5",
   "metadata": {},
   "outputs": [],
   "source": [
    "import pandas as pd"
   ]
  },
  {
   "cell_type": "code",
   "execution_count": 2,
   "id": "386e6505-3f65-40eb-a4c9-83f22ede87c5",
   "metadata": {},
   "outputs": [],
   "source": [
    "data = {\n",
    "    \"Filiale\": [\"A\", \"B\", \"C\"],\n",
    "    \"Umsatz_Apr\": [14000, 12000, 13000],\n",
    "    \"Umsatz_Mai\": [13500, 12500, 13800],\n",
    "    \"Umsatz_Jun\": [14500, 12300, 13200]\n",
    "}"
   ]
  },
  {
   "cell_type": "code",
   "execution_count": 3,
   "id": "faf4e2df-8364-44a8-a9a8-deaaf73a4583",
   "metadata": {},
   "outputs": [],
   "source": [
    "df = pd.DataFrame(data)"
   ]
  },
  {
   "cell_type": "code",
   "execution_count": 4,
   "id": "0112ad98-6e37-4b65-a58f-c92cd0ea0083",
   "metadata": {},
   "outputs": [],
   "source": [
    "df[\"Durchschnitt\"] = df[[\"Umsatz_Apr\", \"Umsatz_Mai\", \"Umsatz_Jun\"]].mean(axis=1)"
   ]
  },
  {
   "cell_type": "code",
   "execution_count": 5,
   "id": "9d5f78ed-baa0-4cf3-9132-f3d3c00eedc0",
   "metadata": {},
   "outputs": [
    {
     "name": "stdout",
     "output_type": "stream",
     "text": [
      "Filiale mit dem höchsten Umsatz im Juni: A\n"
     ]
    }
   ],
   "source": [
    "filiale_max_juni = df.loc[df[\"Umsatz_Jun\"].idxmax(), \"Filiale\"]\n",
    "print(\"Filiale mit dem höchsten Umsatz im Juni:\", filiale_max_juni)"
   ]
  },
  {
   "cell_type": "code",
   "execution_count": 6,
   "id": "26a28c82-4a94-4ffb-84f0-849e06aa08e9",
   "metadata": {},
   "outputs": [],
   "source": [
    "df_filtered = df[df[\"Durchschnitt\"] > 13000]"
   ]
  },
  {
   "cell_type": "code",
   "execution_count": 7,
   "id": "ddf83e3d-b768-4027-ab07-a3139e046089",
   "metadata": {},
   "outputs": [
    {
     "name": "stdout",
     "output_type": "stream",
     "text": [
      "\n",
      "Filialen mit durchschnittlichem Umsatz über 13.000:\n",
      "  Filiale  Umsatz_Apr  Umsatz_Mai  Umsatz_Jun  Durchschnitt\n",
      "0       A       14000       13500       14500  14000.000000\n",
      "2       C       13000       13800       13200  13333.333333\n"
     ]
    }
   ],
   "source": [
    "print(\"\\nFilialen mit durchschnittlichem Umsatz über 13.000:\")\n",
    "print(df_filtered)"
   ]
  },
  {
   "cell_type": "code",
   "execution_count": null,
   "id": "f510daac-0d37-432e-8831-fb12a8386c56",
   "metadata": {},
   "outputs": [],
   "source": []
  }
 ],
 "metadata": {
  "kernelspec": {
   "display_name": "anaconda-ai-2024.04-py310",
   "language": "python",
   "name": "conda-env-anaconda-ai-2024.04-py310-py"
  },
  "language_info": {
   "codemirror_mode": {
    "name": "ipython",
    "version": 3
   },
   "file_extension": ".py",
   "mimetype": "text/x-python",
   "name": "python",
   "nbconvert_exporter": "python",
   "pygments_lexer": "ipython3",
   "version": "3.10.13"
  }
 },
 "nbformat": 4,
 "nbformat_minor": 5
}
